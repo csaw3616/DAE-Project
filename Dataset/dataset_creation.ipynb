{
  "cells": [
    {
      "cell_type": "code",
      "execution_count": 1,
      "metadata": {
        "id": "WlmisFPOrFl1"
      },
      "outputs": [],
      "source": [
        "import pandas as pd\n",
        "import time\n",
        "import numpy as np\n",
        "from urllib.error import HTTPError"
      ]
    },
    {
      "cell_type": "markdown",
      "metadata": {},
      "source": [
        "## Datasheet creation"
      ]
    },
    {
      "cell_type": "markdown",
      "metadata": {},
      "source": [
        "First we used the API of Stemspy to get all games and there information. This was done using the ```pd.read_json()``` while using the API url as input. Because we didn't know how many games there where, we tried the api call until it returns a HTTPError. "
      ]
    },
    {
      "cell_type": "code",
      "execution_count": 66,
      "metadata": {
        "id": "L_zWT9N3snzp"
      },
      "outputs": [],
      "source": [
        "url = \"https://steamspy.com/api.php?request=all&page=\"\n",
        "\n",
        "ls = []\n",
        "for i in range(80):\n",
        "  try:\n",
        "    data = pd.read_json(url+f\"{i}\").T\n",
        "    ls.append(data)\n",
        "    time.sleep(60)\n",
        "  except HTTPError:\n",
        "    break\n",
        "df = pd.concat(ls, axis=0, ignore_index=True)"
      ]
    },
    {
      "cell_type": "markdown",
      "metadata": {},
      "source": [
        "After generating the first part of our dataset, we saved it using the pandas function ```to_pickle()```. "
      ]
    },
    {
      "cell_type": "code",
      "execution_count": 68,
      "metadata": {
        "id": "ZMHZzcEgs712"
      },
      "outputs": [],
      "source": [
        "df.to_pickle(\"dataset.pkl\")"
      ]
    },
    {
      "cell_type": "markdown",
      "metadata": {},
      "source": [
        "After saving the first part, we had to get the detailed information for every instance. This was also done with the Steamspy API. "
      ]
    },
    {
      "cell_type": "code",
      "execution_count": 57,
      "metadata": {},
      "outputs": [],
      "source": [
        "df = pd.read_pickle(\"dataset.pkl\")\n",
        "\n",
        "detailed_url=\"https://steamspy.com/api.php?request=appdetails&appid=\"\n",
        "\n",
        "pickl_df = pd.read_pickle(\"detailed.pkl\")\n",
        "\n",
        "ls = []\n",
        "for idx, row in pickl_df.iterrows():\n",
        "  ls.append(row)"
      ]
    },
    {
      "cell_type": "markdown",
      "metadata": {},
      "source": [
        "To achieve that, we iterrate over the datset of part one and request the detailed information. Because of some default formating of ```pd.read_json()``` we had to construct a new pandas DataFrame to match our expectations. "
      ]
    },
    {
      "cell_type": "code",
      "execution_count": 58,
      "metadata": {
        "colab": {
          "base_uri": "https://localhost:8080/",
          "height": 219
        },
        "id": "nRPiDr1utMri",
        "outputId": "807eb589-5d8b-4b10-e3dc-4579d7750383"
      },
      "outputs": [],
      "source": [
        "i = 0\n",
        "for idx, rows in df.iterrows():\n",
        "  temp_df = pd.read_json(detailed_url+f\"{rows['appid']}\")\n",
        "  if temp_df.empty:\n",
        "    continue\n",
        "  detailed_df = pd.DataFrame([[temp_df.index.values],[temp_df.genre.values],[temp_df.languages.values]], \n",
        "             columns=[temp_df.appid[0]], \n",
        "             index=[\"tags\",\"genre\",\"language\"]).T\n",
        "  ls.append(detailed_df)\n",
        "  time.sleep(1)\n",
        "  i = i+1\n",
        "  if i >= 20:\n",
        "     df_detailed = pd.concat(ls, axis=0, ignore_index=False)\n",
        "     df_detailed.to_pickle(\"detailed.pkl\")\n",
        "     i = 0\n",
        "\n",
        "df_detailed = pd.concat(ls, axis=0, ignore_index=False)"
      ]
    },
    {
      "cell_type": "markdown",
      "metadata": {},
      "source": [
        "After that we only need to combine the two parts into one dataset and save it to disk. "
      ]
    },
    {
      "cell_type": "code",
      "execution_count": null,
      "metadata": {},
      "outputs": [],
      "source": [
        "df_complete = pd.merge(df,df_detailed, left_index=True, right_index=True)\n",
        "\n",
        "df_complete.to_pickle(\"complete_df_steam.pkl\")"
      ]
    }
  ],
  "metadata": {
    "colab": {
      "collapsed_sections": [],
      "provenance": []
    },
    "kernelspec": {
      "display_name": "Python 3.10.6 64-bit",
      "language": "python",
      "name": "python3"
    },
    "language_info": {
      "codemirror_mode": {
        "name": "ipython",
        "version": 3
      },
      "file_extension": ".py",
      "mimetype": "text/x-python",
      "name": "python",
      "nbconvert_exporter": "python",
      "pygments_lexer": "ipython3",
      "version": "3.10.6"
    },
    "vscode": {
      "interpreter": {
        "hash": "916dbcbb3f70747c44a77c7bcd40155683ae19c65e1c03b4aa3499c5328201f1"
      }
    }
  },
  "nbformat": 4,
  "nbformat_minor": 0
}
